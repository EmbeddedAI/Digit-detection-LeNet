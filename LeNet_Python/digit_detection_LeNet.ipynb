{
 "cells": [
  {
   "cell_type": "markdown",
   "metadata": {},
   "source": [
    "# Digit Detection: LeNet"
   ]
  },
  {
   "cell_type": "markdown",
   "metadata": {},
   "source": [
    "Students: Juan Sebastián Barreto Jimenez y Juan Camilo Devia Bastos\n",
    "\n",
    "Consultant: Ing. Eduardo Andrés Gerlien Reyes\n",
    "\n",
    "Client: Ing. Olga Lucía Quintero Montoya"
   ]
  },
  {
   "cell_type": "markdown",
   "metadata": {},
   "source": [
    "## Avoid warnings"
   ]
  },
  {
   "cell_type": "code",
   "execution_count": 37,
   "metadata": {},
   "outputs": [],
   "source": [
    "# Avoid warnings in terminal\n",
    "import os\n",
    "os.environ['TF_CPP_MIN_LOG_LEVEL'] = '2'"
   ]
  },
  {
   "cell_type": "markdown",
   "metadata": {},
   "source": [
    "## Libraries"
   ]
  },
  {
   "cell_type": "code",
   "execution_count": 38,
   "metadata": {},
   "outputs": [],
   "source": [
    "from tensorflow import keras\n",
    "import keras.layers as layers\n",
    "from keras.models import Sequential,Input,Model\n",
    "from keras.layers import Dense, Dropout, Flatten\n",
    "from keras.layers import Conv2D, MaxPooling2D\n",
    "import tensorflow as tf\n",
    "import visualkeras\n",
    "\n",
    "from keras.datasets import mnist\n",
    "from tensorflow.keras.optimizers import SGD\n",
    "from keras.utils import np_utils\n",
    "from keras import backend as K\n",
    "import numpy as np\n",
    "import cv2"
   ]
  },
  {
   "cell_type": "markdown",
   "metadata": {},
   "source": [
    "## Download and Process Data from MNIST Keras"
   ]
  },
  {
   "cell_type": "code",
   "execution_count": 39,
   "metadata": {},
   "outputs": [],
   "source": [
    "((trainData, trainLabels), (testData, testLabels)) = mnist.load_data()\n",
    "# if we are using \"channels first\" ordering, then reshape the\n",
    "# design matrix such that the matrix is:\n",
    "# num_samples x depth x rows x columns\n",
    "if K.image_data_format() == \"channels_first\":\n",
    "\ttrainData = trainData.reshape((trainData.shape[0], 1, 28, 28))\n",
    "\ttestData = testData.reshape((testData.shape[0], 1, 28, 28))\n",
    "# otherwise, we are using \"channels last\" ordering, so the design\n",
    "# matrix shape should be: num_samples x rows x columns x depth\n",
    "else:\n",
    "\ttrainData = trainData.reshape((trainData.shape[0], 28, 28, 1))\n",
    "\ttestData = testData.reshape((testData.shape[0], 28, 28, 1))\n",
    "# scale data to the range of [0, 1]\n",
    "trainData = trainData.astype(\"float32\") / 255.0\n",
    "testData = testData.astype(\"float32\") / 255.0\n",
    "# transform the training and testing labels into vectors in the\n",
    "# range [0, classes] -- this generates a vector for each label,\n",
    "# where the index of the label is set to `1` and all other entries\n",
    "# to `0`; in the case of MNIST, there are 10 class labels\n",
    "trainLabels = np_utils.to_categorical(trainLabels, 10)\n",
    "testLabels = np_utils.to_categorical(testLabels, 10)"
   ]
  },
  {
   "cell_type": "markdown",
   "metadata": {},
   "source": [
    "## Export data to Matlab"
   ]
  },
  {
   "cell_type": "code",
   "execution_count": 40,
   "metadata": {},
   "outputs": [],
   "source": [
    "((trainData_m, trainLabels_m), (testData_m, testLabel_m)) = mnist.load_data()\n",
    "trainData_m = trainData_m.reshape((28, 28, 1, trainData_m.shape[0]))\n",
    "testData_m = testData_m.reshape((28, 28, 1, testData.shape[0]))\n",
    "# scale data to the range of [0, 1]\n",
    "trainData_m = trainData_m.astype(\"float32\") / 255.0\n",
    "testData_m = testData_m.astype(\"float32\") / 255.0\n",
    "\n",
    "from scipy.io import savemat\n",
    "m_dic = {\"trainData\": trainData_m, \"testData\": testData_m, \"trainLabels\": trainLabels_m, \"testLabels\": testLabel_m}\n",
    "savemat(\"../LeNet_Matlab/matlab_matrix.mat\", m_dic)"
   ]
  },
  {
   "cell_type": "markdown",
   "metadata": {},
   "source": [
    "## Mount CNN: LeNet"
   ]
  },
  {
   "cell_type": "code",
   "execution_count": 41,
   "metadata": {},
   "outputs": [],
   "source": [
    "model = keras.Sequential()\n",
    "numChannels, imgRows, imgCols = 1, 28, 28\n",
    "numClasses = 10\n",
    "inputShape = (imgRows, imgCols, numChannels)\n",
    "activation = 'relu' \n",
    "\n",
    "# if we are using \"channels first\", update the input shape\n",
    "if K.image_data_format() == \"channels_first\":\n",
    "\tprint(\"ENtre\")\n",
    "\tinputShape = (numChannels, imgRows, imgCols)\n",
    "\n",
    "model.add(layers.Conv2D(filters=20, kernel_size=5, padding=\"same\", activation=activation, input_shape=inputShape))\n",
    "model.add(layers.MaxPooling2D(pool_size=(2, 2), strides=(2, 2)))\n",
    "model.add(layers.Conv2D(filters=50, kernel_size=5, padding=\"same\", activation=activation))\n",
    "model.add(layers.MaxPooling2D(pool_size=(2, 2), strides=(2, 2)))\n",
    "model.add(Flatten())\n",
    "model.add(layers.Dense(units=500, activation='relu'))\n",
    "model.add(layers.Dense(units=numClasses, activation = 'softmax'))"
   ]
  },
  {
   "cell_type": "markdown",
   "metadata": {},
   "source": [
    "## Compile CNN: LeNet"
   ]
  },
  {
   "cell_type": "code",
   "execution_count": 42,
   "metadata": {},
   "outputs": [],
   "source": [
    "opt = SGD(learning_rate=0.01)\n",
    "model.compile(loss=\"categorical_crossentropy\", optimizer=opt,metrics=[\"accuracy\"])"
   ]
  },
  {
   "cell_type": "markdown",
   "metadata": {},
   "source": [
    "## Train model"
   ]
  },
  {
   "cell_type": "code",
   "execution_count": 43,
   "metadata": {},
   "outputs": [
    {
     "name": "stdout",
     "output_type": "stream",
     "text": [
      "[INFO] training...\n",
      "Epoch 1/20\n",
      "469/469 [==============================] - 49s 102ms/step - loss: 0.9979 - accuracy: 0.7167\n",
      "Epoch 2/20\n",
      "469/469 [==============================] - 49s 104ms/step - loss: 0.2643 - accuracy: 0.9215\n",
      "Epoch 3/20\n",
      "469/469 [==============================] - 49s 103ms/step - loss: 0.1865 - accuracy: 0.9444\n",
      "Epoch 4/20\n",
      "469/469 [==============================] - 43s 93ms/step - loss: 0.1460 - accuracy: 0.9571\n",
      "Epoch 5/20\n",
      "469/469 [==============================] - 44s 93ms/step - loss: 0.1198 - accuracy: 0.9649\n",
      "Epoch 6/20\n",
      "469/469 [==============================] - 48s 102ms/step - loss: 0.1022 - accuracy: 0.9696\n",
      "Epoch 7/20\n",
      "469/469 [==============================] - 46s 99ms/step - loss: 0.0909 - accuracy: 0.9724\n",
      "Epoch 8/20\n",
      "469/469 [==============================] - 46s 99ms/step - loss: 0.0811 - accuracy: 0.9758\n",
      "Epoch 9/20\n",
      "469/469 [==============================] - 45s 97ms/step - loss: 0.0735 - accuracy: 0.9782\n",
      "Epoch 10/20\n",
      "469/469 [==============================] - 46s 98ms/step - loss: 0.0677 - accuracy: 0.9797\n",
      "Epoch 11/20\n",
      "469/469 [==============================] - 45s 96ms/step - loss: 0.0632 - accuracy: 0.9808\n",
      "Epoch 12/20\n",
      "469/469 [==============================] - 44s 94ms/step - loss: 0.0589 - accuracy: 0.9823\n",
      "Epoch 13/20\n",
      "469/469 [==============================] - 44s 95ms/step - loss: 0.0552 - accuracy: 0.9836\n",
      "Epoch 14/20\n",
      "469/469 [==============================] - 44s 93ms/step - loss: 0.0520 - accuracy: 0.9841\n",
      "Epoch 15/20\n",
      "469/469 [==============================] - 45s 96ms/step - loss: 0.0496 - accuracy: 0.9855\n",
      "Epoch 16/20\n",
      "469/469 [==============================] - 47s 101ms/step - loss: 0.0469 - accuracy: 0.9859\n",
      "Epoch 17/20\n",
      "469/469 [==============================] - 46s 98ms/step - loss: 0.0454 - accuracy: 0.9862\n",
      "Epoch 18/20\n",
      "469/469 [==============================] - 45s 96ms/step - loss: 0.0425 - accuracy: 0.9875\n",
      "Epoch 19/20\n",
      "469/469 [==============================] - 44s 95ms/step - loss: 0.0408 - accuracy: 0.9879\n",
      "Epoch 20/20\n",
      "469/469 [==============================] - 45s 96ms/step - loss: 0.0394 - accuracy: 0.9881\n"
     ]
    },
    {
     "data": {
      "text/plain": [
       "<keras.callbacks.History at 0x7f6f502c36d0>"
      ]
     },
     "execution_count": 43,
     "metadata": {},
     "output_type": "execute_result"
    }
   ],
   "source": [
    "print(\"[INFO] training...\")\n",
    "model.fit(trainData, trainLabels, batch_size=128, epochs=20,verbose=1)"
   ]
  },
  {
   "cell_type": "markdown",
   "metadata": {},
   "source": [
    "## Evaluate model"
   ]
  },
  {
   "cell_type": "code",
   "execution_count": 46,
   "metadata": {},
   "outputs": [
    {
     "name": "stdout",
     "output_type": "stream",
     "text": [
      "[INFO] evaluating...\n",
      "79/79 [==============================] - 2s 22ms/step - loss: 0.0374 - accuracy: 0.9873\n",
      "[INFO] accuracy: 98.73%\n"
     ]
    }
   ],
   "source": [
    "print(\"[INFO] evaluating...\")\n",
    "(loss, accuracy) = model.evaluate(testData, testLabels,batch_size=128, verbose=1)\n",
    "print(\"[INFO] accuracy: {:.2f}%\".format(accuracy * 100))"
   ]
  },
  {
   "cell_type": "markdown",
   "metadata": {},
   "source": [
    "## Save Weights"
   ]
  },
  {
   "cell_type": "code",
   "execution_count": 45,
   "metadata": {},
   "outputs": [
    {
     "name": "stdout",
     "output_type": "stream",
     "text": [
      "[INFO] dumping weights to file...\n"
     ]
    }
   ],
   "source": [
    "print(\"[INFO] dumping weights to file...\")\n",
    "model.save_weights('output/lenet_weights.hdf5', overwrite=True)"
   ]
  },
  {
   "cell_type": "markdown",
   "metadata": {},
   "source": [
    "## Randomly select a few testing digits"
   ]
  },
  {
   "cell_type": "code",
   "execution_count": 46,
   "metadata": {},
   "outputs": [
    {
     "name": "stdout",
     "output_type": "stream",
     "text": [
      "[INFO] Predicted: 4, Actual: 4\n"
     ]
    }
   ],
   "source": [
    "for i in np.random.choice(np.arange(0, len(testLabels)), size=(10,)):\n",
    "\t# classify the digit\n",
    "\tprobs = model.predict(testData[np.newaxis, i])\n",
    "\tprediction = probs.argmax(axis=1)\n",
    "\t# extract the image from the testData if using \"channels_first\"\n",
    "\t# ordering\n",
    "\tif K.image_data_format() == \"channels_first\":\n",
    "\t\timage = (testData[i][0] * 255).astype(\"uint8\")\n",
    "\t# otherwise we are using \"channels_last\" ordering\n",
    "\telse:\n",
    "\t\timage = (testData[i] * 255).astype(\"uint8\")\n",
    "\t# merge the channels into one image\n",
    "\timage = cv2.merge([image] * 3)\n",
    "\t# resize the image from a\n",
    "\t#  28 x 28 image to a 96 x 96 image so we\n",
    "\t# can better see it\n",
    "\timage = cv2.resize(image, (96, 96), interpolation=cv2.INTER_LINEAR)\n",
    "\t# show the image and prediction\n",
    "\tcv2.putText(image, str(prediction[0]), (5, 20),\n",
    "\t\t\t\tcv2.FONT_HERSHEY_SIMPLEX, 0.75, (0, 255, 0), 2)\n",
    "\tprint(\"[INFO] Predicted: {}, Actual: {}\".format(prediction[0],\n",
    "\t\tnp.argmax(testLabels[i])))\n",
    "\tcv2.imshow(\"Digit\", image)\n",
    "\tcv2.waitKey(0)"
   ]
  },
  {
   "cell_type": "markdown",
   "metadata": {},
   "source": [
    "## Visualize CNN: LeNet"
   ]
  },
  {
   "cell_type": "code",
   "execution_count": 5,
   "metadata": {},
   "outputs": [
    {
     "ename": "NameError",
     "evalue": "name 'model' is not defined",
     "output_type": "error",
     "traceback": [
      "\u001b[0;31m---------------------------------------------------------------------------\u001b[0m",
      "\u001b[0;31mNameError\u001b[0m                                 Traceback (most recent call last)",
      "\u001b[0;32m/tmp/ipykernel_141267/873123614.py\u001b[0m in \u001b[0;36m<module>\u001b[0;34m\u001b[0m\n\u001b[0;32m----> 1\u001b[0;31m \u001b[0mvisualkeras\u001b[0m\u001b[0;34m.\u001b[0m\u001b[0mlayered_view\u001b[0m\u001b[0;34m(\u001b[0m\u001b[0mmodel\u001b[0m\u001b[0;34m)\u001b[0m\u001b[0;34m\u001b[0m\u001b[0;34m\u001b[0m\u001b[0m\n\u001b[0m",
      "\u001b[0;31mNameError\u001b[0m: name 'model' is not defined"
     ]
    }
   ],
   "source": [
    "visualkeras.layered_view(model)"
   ]
  }
 ],
 "metadata": {
  "interpreter": {
   "hash": "916dbcbb3f70747c44a77c7bcd40155683ae19c65e1c03b4aa3499c5328201f1"
  },
  "kernelspec": {
   "display_name": "Python 3.8.10 64-bit",
   "language": "python",
   "name": "python3"
  },
  "language_info": {
   "codemirror_mode": {
    "name": "ipython",
    "version": 3
   },
   "file_extension": ".py",
   "mimetype": "text/x-python",
   "name": "python",
   "nbconvert_exporter": "python",
   "pygments_lexer": "ipython3",
   "version": "3.8.10"
  },
  "orig_nbformat": 4
 },
 "nbformat": 4,
 "nbformat_minor": 2
}
